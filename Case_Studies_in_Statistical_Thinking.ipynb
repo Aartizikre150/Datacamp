{
  "nbformat": 4,
  "nbformat_minor": 0,
  "metadata": {
    "colab": {
      "provenance": [],
      "authorship_tag": "ABX9TyM50B6t90PI8Rp7Y+met94G",
      "include_colab_link": true
    },
    "kernelspec": {
      "name": "python3",
      "display_name": "Python 3"
    },
    "language_info": {
      "name": "python"
    }
  },
  "cells": [
    {
      "cell_type": "markdown",
      "metadata": {
        "id": "view-in-github",
        "colab_type": "text"
      },
      "source": [
        "<a href=\"https://colab.research.google.com/github/Aartizikre150/Datacamp/blob/main/Case_Studies_in_Statistical_Thinking.ipynb\" target=\"_parent\"><img src=\"https://colab.research.google.com/assets/colab-badge.svg\" alt=\"Open In Colab\"/></a>"
      ]
    },
    {
      "cell_type": "markdown",
      "source": [
        "EDA: Plot ECDFs of active bout length"
      ],
      "metadata": {
        "id": "PfsQhZsFGvnn"
      }
    },
    {
      "cell_type": "code",
      "execution_count": null,
      "metadata": {
        "id": "W3odBMr6Gthu"
      },
      "outputs": [],
      "source": [
        "# Import the dc_stat_think module as dcst\n",
        "import dc_stat_think as dcst\n",
        "\n",
        "# Generate x and y values for plotting ECDFs\n",
        "x_wt, y_wt = dcst.ecdf(bout_lengths_wt)\n",
        "x_mut, y_mut = dcst.ecdf(bout_lengths_mut)\n",
        "\n",
        "# Plot the ECDFs\n",
        "_ = plt.plot(x_wt, y_wt, marker='.', linestyle='none')\n",
        "_ = plt.plot(x_mut, y_mut, marker='.', linestyle='none')\n",
        "\n",
        "# Make a legend, label axes, and show plot\n",
        "_ = plt.legend(('wt', 'mut'))\n",
        "_ = plt.xlabel('active bout length (min)')\n",
        "_ = plt.ylabel('ECDF')\n",
        "plt.show()\n"
      ]
    },
    {
      "cell_type": "code",
      "source": [
        "2"
      ],
      "metadata": {
        "id": "UFBFja2VG4o0"
      },
      "execution_count": null,
      "outputs": []
    },
    {
      "cell_type": "markdown",
      "source": [
        "Parameter estimation: active bout length"
      ],
      "metadata": {
        "id": "_Z_wxaLdG_DW"
      }
    },
    {
      "cell_type": "code",
      "source": [
        "# Compute mean active bout length\n",
        "mean_wt = np.mean(bout_lengths_wt)\n",
        "mean_mut = np.mean(bout_lengths_mut)\n",
        "\n",
        "# Draw bootstrap replicates\n",
        "bs_reps_wt = dcst.draw_bs_reps(bout_lengths_wt, np.mean, size=10000)\n",
        "bs_reps_mut = dcst.draw_bs_reps(bout_lengths_mut, np.mean, size=10000)\n",
        "\n",
        "# Compute 95% confidence intervals\n",
        "conf_int_wt = np.percentile(bs_reps_wt, [2.5, 97.5])\n",
        "conf_int_mut = np.percentile(bs_reps_mut, [2.5, 97.5])\n",
        "\n",
        "# Print the results\n",
        "print(\"\"\"\n",
        "wt:  mean = {0:.3f} min., conf. int. = [{1:.1f}, {2:.1f}] min.\n",
        "mut: mean = {3:.3f} min., conf. int. = [{4:.1f}, {5:.1f}] min.\n",
        "\"\"\".format(mean_wt, *conf_int_wt, mean_mut, *conf_int_mut))"
      ],
      "metadata": {
        "id": "gKLgbRrsG5Kr"
      },
      "execution_count": null,
      "outputs": []
    },
    {
      "cell_type": "markdown",
      "source": [
        "Permutation test: wild type versus heterozygote"
      ],
      "metadata": {
        "id": "2591ImNlHHAq"
      }
    },
    {
      "cell_type": "code",
      "source": [
        "# Compute the difference of means: diff_means_exp\n",
        "diff_means_exp = np.mean(bout_lengths_het) - np.mean(bout_lengths_wt)\n",
        "\n",
        "# Draw permutation replicates: perm_reps\n",
        "perm_reps = dcst.draw_perm_reps(bout_lengths_het, bout_lengths_wt,\n",
        "                               dcst.diff_of_means, size=10000)\n",
        "\n",
        "# Compute the p-value: p_val\n",
        "p_val = np.sum(perm_reps >= diff_means_exp) / len(perm_reps)\n",
        "\n",
        "# Print the result\n",
        "print('p =', p_val)"
      ],
      "metadata": {
        "id": "BwwlCgx3G5gO"
      },
      "execution_count": null,
      "outputs": []
    },
    {
      "cell_type": "markdown",
      "source": [
        "Bootstrap hypothesis test"
      ],
      "metadata": {
        "id": "wevVSIH2HR5e"
      }
    },
    {
      "cell_type": "code",
      "source": [
        "# Concatenate arrays: bout_lengths_concat\n",
        "bout_lengths_concat = np.concatenate((bout_lengths_wt, bout_lengths_het))\n",
        "\n",
        "# Compute mean of all bout_lengths: mean_bout_length\n",
        "mean_bout_length = np.mean(bout_lengths_concat)\n",
        "\n",
        "# Generate shifted arrays\n",
        "wt_shifted = bout_lengths_wt - np.mean(bout_lengths_wt) + mean_bout_length\n",
        "het_shifted = bout_lengths_het - np.mean(bout_lengths_het) + mean_bout_length\n",
        "\n",
        "# Compute 10,000 bootstrap replicates from shifted arrays\n",
        "bs_reps_wt = dcst.draw_bs_reps(wt_shifted, np.mean, size=10000)\n",
        "bs_reps_het = dcst.draw_bs_reps(het_shifted, np.mean, size=10000)\n",
        "\n",
        "# Get replicates of difference of means: bs_reps\n",
        "bs_reps = bs_reps_het - bs_reps_wt\n",
        "\n",
        "# Compute and print p-value: p\n",
        "p = np.sum(bs_reps >= diff_means_exp) / len(bs_reps)\n",
        "print('p-value =', p)"
      ],
      "metadata": {
        "id": "um817FvBG5ly"
      },
      "execution_count": null,
      "outputs": []
    },
    {
      "cell_type": "markdown",
      "source": [
        "Assessing the growth rate"
      ],
      "metadata": {
        "id": "-_ArzwLkHZbq"
      }
    },
    {
      "cell_type": "code",
      "source": [
        "# Compute logarithm of the bacterial area\n",
        "log_bac_area = np.log(bac_area)\n",
        "\n",
        "# Compute the slope and intercept: growth_rate, log_a0\n",
        "growth_rate, log_a0 = np.polyfit(t, log_bac_area, 1)\n",
        "\n",
        "# Draw 10,000 pairs bootstrap replicates: growth_rate_bs_reps, log_a0_bs_reps\n",
        "growth_rate_bs_reps, log_a0_bs_reps = dcst.draw_bs_pairs_linreg(\n",
        "    t, log_bac_area, size=10000\n",
        ")\n",
        "\n",
        "# Compute confidence intervals: growth_rate_conf_int\n",
        "growth_rate_conf_int = np.percentile(growth_rate_bs_reps, [2.5, 97.5])\n",
        "\n",
        "# Print the result to the screen\n",
        "print(\"\"\"\n",
        "Growth rate: {0:.4f} 1/hour\n",
        "95% conf int: [{1:.4f}, {2:.4f}] 1/hour\n",
        "\"\"\".format(growth_rate, *growth_rate_conf_int))"
      ],
      "metadata": {
        "id": "OVkYTr2TG5qS"
      },
      "execution_count": null,
      "outputs": []
    },
    {
      "cell_type": "markdown",
      "source": [
        "Plotting the growth curve"
      ],
      "metadata": {
        "id": "c6mXFEtkHf4z"
      }
    },
    {
      "cell_type": "code",
      "source": [
        "# Plot data points in a semilog-y plot with axis labeles\n",
        "_ = plt.semilogy(t, bac_area, marker='.', linestyle='none')\n",
        "\n",
        "# Generate x-values for the bootstrap lines: t_bs\n",
        "t_bs = np.array([0, 14])\n",
        "\n",
        "# Plot the first 100 bootstrap lines\n",
        "for i in range(100):\n",
        "    y = np.exp(growth_rate_bs_reps[i] * t_bs + log_a0_bs_reps[i])\n",
        "    _ = plt.semilogy(t_bs, y, linewidth=0.5, alpha=0.05, color='red')\n",
        "\n",
        "# Label axes and show plot\n",
        "_ = plt.xlabel('time (hr)')\n",
        "_ = plt.ylabel('area (sq. µm)')\n",
        "plt.show()"
      ],
      "metadata": {
        "id": "9o9HknZmG5tH"
      },
      "execution_count": null,
      "outputs": []
    },
    {
      "cell_type": "markdown",
      "source": [
        "Graphical EDA of men's 200 free heats"
      ],
      "metadata": {
        "id": "VLA610JdHn8T"
      }
    },
    {
      "cell_type": "code",
      "source": [
        "# Generate x and y values for ECDF\n",
        "x, y = dcst.ecdf(mens_200_free_heats)\n",
        "\n",
        "# Plot the ECDF as dots\n",
        "_ = plt.plot(x, y, marker='.', linestyle='none')\n",
        "\n",
        "# Label axes and show plot\n",
        "_ = plt.xlabel('time (s)')\n",
        "_ = plt.ylabel('ECDF')\n",
        "plt.show()\n"
      ],
      "metadata": {
        "id": "ZmRfRrOGG5vn"
      },
      "execution_count": null,
      "outputs": []
    },
    {
      "cell_type": "markdown",
      "source": [
        "200 m free time with confidence interval"
      ],
      "metadata": {
        "id": "iy0uxHUEHt-j"
      }
    },
    {
      "cell_type": "code",
      "source": [
        "# Compute mean and median swim times\n",
        "mean_time = np.mean(mens_200_free_heats)\n",
        "median_time = np.median(mens_200_free_heats)\n",
        "\n",
        "# Draw 10,000 bootstrap replicates of the mean and median\n",
        "bs_reps_mean = dcst.draw_bs_reps(mens_200_free_heats, np.mean, size=10000)\n",
        "bs_reps_median = dcst.draw_bs_reps(mens_200_free_heats, np.median, size=10000)\n",
        "\n",
        "\n",
        "# Compute the 95% confidence intervals\n",
        "conf_int_mean = np.percentile(bs_reps_mean, [2.5, 97.5])\n",
        "conf_int_median = np.percentile(bs_reps_median, [2.5, 97.5])\n",
        "\n",
        "# Print the result to the screen\n",
        "print(\"\"\"\n",
        "mean time: {0:.2f} sec.\n",
        "95% conf int of mean: [{1:.2f}, {2:.2f}] sec.\n",
        "\n",
        "median time: {3:.2f} sec.\n",
        "95% conf int of median: [{4:.2f}, {5:.2f}] sec.\n",
        "\"\"\".format(mean_time, *conf_int_mean, median_time, *conf_int_median))"
      ],
      "metadata": {
        "id": "VHOcaUzcG5yK"
      },
      "execution_count": null,
      "outputs": []
    },
    {
      "cell_type": "markdown",
      "source": [
        "EDA: finals versus semifinals"
      ],
      "metadata": {
        "id": "KLJKt0hnH2mO"
      }
    },
    {
      "cell_type": "code",
      "source": [
        "# Compute fractional difference in time between finals and semis\n",
        "f = (semi_times - final_times) / semi_times\n",
        "\n",
        "# Generate x and y values for the ECDF: x, y\n",
        "x, y = dcst.ecdf(f)\n",
        "\n",
        "# Make a plot of the ECDF\n",
        "_ = plt.plot(x, y, marker='.', linestyle='none')\n",
        "\n",
        "# Label axes and show plot\n",
        "_ = plt.xlabel('f')\n",
        "_ = plt.ylabel('ECDF')\n",
        "plt.show()"
      ],
      "metadata": {
        "id": "8bZYZvENG50t"
      },
      "execution_count": null,
      "outputs": []
    },
    {
      "cell_type": "markdown",
      "source": [
        "Parameter estimates of difference between finals and semifinals"
      ],
      "metadata": {
        "id": "9l1THwIJH9AT"
      }
    },
    {
      "cell_type": "code",
      "source": [
        "# Mean fractional time difference: f_mean\n",
        "f_mean = np.mean(f)\n",
        "\n",
        "# Get bootstrap reps of mean: bs_reps\n",
        "bs_reps = dcst.draw_bs_reps(f, np.mean, size=10000)\n",
        "\n",
        "# Compute confidence intervals: conf_int\n",
        "conf_int = np.percentile(bs_reps, [2.5, 97.5])\n",
        "\n",
        "# Report\n",
        "print(\"\"\"\n",
        "mean frac. diff.: {0:.5f}\n",
        "95% conf int of mean frac. diff.: [{1:.5f}, {2:.5f}]\"\"\".format(f_mean, *conf_int))"
      ],
      "metadata": {
        "id": "GztEvTuZG53R"
      },
      "execution_count": null,
      "outputs": []
    },
    {
      "cell_type": "markdown",
      "source": [
        "How to do the permutation test"
      ],
      "metadata": {
        "id": "v1GFYO8DIDda"
      }
    },
    {
      "cell_type": "code",
      "source": [
        "1"
      ],
      "metadata": {
        "id": "p-ASznnfG553"
      },
      "execution_count": null,
      "outputs": []
    },
    {
      "cell_type": "markdown",
      "source": [
        "Generating permutation samples"
      ],
      "metadata": {
        "id": "vQCGu9ecIHbI"
      }
    },
    {
      "cell_type": "code",
      "source": [
        "def swap_random(a, b):\n",
        "    \"\"\"Randomly swap entries in two arrays.\"\"\"\n",
        "    # Indices to swap\n",
        "    swap_inds = np.random.random(size=len(a)) < 0.5\n",
        "\n",
        "    # Make copies of arrays a and b for output\n",
        "    a_out = np.copy(a)\n",
        "    b_out = np.copy(b)\n",
        "\n",
        "    # Swap values\n",
        "    a_out[swap_inds] = b[swap_inds]\n",
        "    b_out[swap_inds] = a[swap_inds]\n",
        "\n",
        "    return a_out, b_out"
      ],
      "metadata": {
        "id": "-3lSvTWoG58V"
      },
      "execution_count": null,
      "outputs": []
    },
    {
      "cell_type": "markdown",
      "source": [
        "Hypothesis test: Do women swim the same way in semis and finals?"
      ],
      "metadata": {
        "id": "wWkFvEgAIOh5"
      }
    },
    {
      "cell_type": "code",
      "source": [
        "# Set up array of permutation replicates\n",
        "perm_reps = np.empty(1000)\n",
        "\n",
        "for i in range(1000):\n",
        "    # Generate a permutation sample\n",
        "    semi_perm, final_perm = swap_random(semi_times, final_times)\n",
        "\n",
        "    # Compute f from the permutation sample\n",
        "    f = (semi_perm - final_perm) / semi_perm\n",
        "\n",
        "    # Compute and store permutation replicate\n",
        "    perm_reps[i] = np.mean(f)\n",
        "\n",
        "# Compute and print p-value\n",
        "print('p =', np.sum(perm_reps >= f_mean) / 1000)"
      ],
      "metadata": {
        "id": "KDJrDgNXG5-m"
      },
      "execution_count": null,
      "outputs": []
    },
    {
      "cell_type": "markdown",
      "source": [
        "EDA: Plot all your data"
      ],
      "metadata": {
        "id": "Zq6WsDLTIV57"
      }
    },
    {
      "cell_type": "code",
      "source": [
        "# Plot the splits for each swimmer\n",
        "for splitset in splits:\n",
        "    _ = plt.plot(split_number, splitset, linewidth=1, color='lightgray')\n",
        "\n",
        "# Compute the mean split times\n",
        "mean_splits = np.mean(splits, axis=0)\n",
        "\n",
        "# Plot the mean split times\n",
        "_ = plt.plot(split_number, mean_splits, marker='.', linewidth=3, markersize=12)\n",
        "\n",
        "# Label axes and show plot\n",
        "_ = plt.xlabel('split number')\n",
        "_ = plt.ylabel('split time (s)')\n",
        "plt.show()"
      ],
      "metadata": {
        "id": "-4VjnZ0jG6BN"
      },
      "execution_count": null,
      "outputs": []
    },
    {
      "cell_type": "markdown",
      "source": [
        "Linear regression of average split time"
      ],
      "metadata": {
        "id": "49_WwBOjIb01"
      }
    },
    {
      "cell_type": "code",
      "source": [
        "# Perform regression\n",
        "slowdown, split_3 = np.polyfit(split_number, mean_splits, 1)\n",
        "\n",
        "# Compute pairs bootstrap\n",
        "bs_reps, _ = dcst.draw_bs_pairs_linreg(split_number, mean_splits, size=10000)\n",
        "\n",
        "# Compute confidence interval\n",
        "conf_int = np.percentile(bs_reps, [2.5, 97.5])\n",
        "\n",
        "# Plot the data with regressions line\n",
        "_ = plt.plot(split_number, mean_splits, marker='.', linestyle='none')\n",
        "_ = plt.plot(split_number, slowdown * split_number + split_3, '-')\n",
        "\n",
        "# Label axes and show plot\n",
        "_ = plt.xlabel('split number')\n",
        "_ = plt.ylabel('split time (s)')\n",
        "plt.show()\n",
        "\n",
        "# Print the slowdown per split\n",
        "print(\"\"\"\n",
        "mean slowdown: {0:.3f} sec./split\n",
        "95% conf int of mean slowdown: [{1:.3f}, {2:.3f}] sec./split\"\"\".format(\n",
        "    slowdown, *conf_int))\n"
      ],
      "metadata": {
        "id": "J6y3pdrTG6D6"
      },
      "execution_count": null,
      "outputs": []
    },
    {
      "cell_type": "markdown",
      "source": [
        "Hypothesis test: are they slowing down?"
      ],
      "metadata": {
        "id": "VovGqVIsIgtX"
      }
    },
    {
      "cell_type": "code",
      "source": [
        "# Observed correlation\n",
        "rho = dcst.pearson_r(split_number, mean_splits)\n",
        "\n",
        "# Initialize permutation reps\n",
        "perm_reps_rho = np.empty(10000)\n",
        "\n",
        "# Make permutation reps\n",
        "for i in range(10000):\n",
        "    # Scramble the split number array\n",
        "    scrambled_split_number = np.random.permutation(split_number)\n",
        "\n",
        "    # Compute the Pearson correlation coefficient\n",
        "    perm_reps_rho[i] = dcst.pearson_r(scrambled_split_number, mean_splits)\n",
        "\n",
        "# Compute and print p-value\n",
        "p_val = np.sum(perm_reps_rho >= rho) / 10000\n",
        "print('p =', p_val)"
      ],
      "metadata": {
        "id": "84p-S_NxG6Go"
      },
      "execution_count": null,
      "outputs": []
    },
    {
      "cell_type": "markdown",
      "source": [
        "A metric for improvement"
      ],
      "metadata": {
        "id": "aMC29cUjLrXc"
      }
    },
    {
      "cell_type": "code",
      "source": [
        "3"
      ],
      "metadata": {
        "id": "hN9qmsfSG6Jf"
      },
      "execution_count": null,
      "outputs": []
    },
    {
      "cell_type": "markdown",
      "source": [
        "ECDF of improvement from low to high lanes"
      ],
      "metadata": {
        "id": "c6-kCC_8L-N9"
      }
    },
    {
      "cell_type": "code",
      "source": [
        "# Compute the fractional improvement of being in high lane: f\n",
        "f = (swimtime_low_lanes - swimtime_high_lanes) / swimtime_low_lanes\n",
        "\n",
        "# Make x and y values for ECDF: x, y\n",
        "x, y = dcst.ecdf(f)\n",
        "\n",
        "# Plot the ECDFs as dots\n",
        "_ = plt.plot(x, y, marker='.', linestyle='none')\n",
        "\n",
        "# Label the axes and show the plot\n",
        "_ = plt.xlabel('f')\n",
        "_ = plt.ylabel('ECDF')\n",
        "plt.show()"
      ],
      "metadata": {
        "id": "pH_MoNxiG6L1"
      },
      "execution_count": null,
      "outputs": []
    },
    {
      "cell_type": "markdown",
      "source": [
        "Estimation of mean improvement"
      ],
      "metadata": {
        "id": "pYQ8ngFoMIPZ"
      }
    },
    {
      "cell_type": "code",
      "source": [
        "# Compute the mean difference: f_mean\n",
        "f_mean = np.mean(f)\n",
        "\n",
        "# Draw 10,000 bootstrap replicates: bs_reps\n",
        "bs_reps = dcst.draw_bs_reps(f, np.mean, size=10000)\n",
        "\n",
        "# Compute 95% confidence interval: conf_int\n",
        "conf_int = np.percentile(bs_reps, [2.5, 97.5])\n",
        "\n",
        "# Print the result\n",
        "print(\"\"\"\n",
        "mean frac. diff.: {0:.5f}\n",
        "95% conf int of mean frac. diff.: [{1:.5f}, {2:.5f}]\"\"\".format(f_mean, *conf_int))"
      ],
      "metadata": {
        "id": "rMVHD6szG6Od"
      },
      "execution_count": null,
      "outputs": []
    },
    {
      "cell_type": "markdown",
      "source": [
        "How should we test the hypothesis?"
      ],
      "metadata": {
        "id": "lU5ZR8TZMNHz"
      }
    },
    {
      "cell_type": "code",
      "source": [
        "4"
      ],
      "metadata": {
        "id": "B7V5GQK7MM1t"
      },
      "execution_count": null,
      "outputs": []
    },
    {
      "cell_type": "markdown",
      "source": [
        "Hypothesis test: Does lane assignment affect performance?"
      ],
      "metadata": {
        "id": "pJX9enPUMXuE"
      }
    },
    {
      "cell_type": "code",
      "source": [
        "# Shift f: f_shift\n",
        "f_shift = f - f_mean\n",
        "\n",
        "# Draw 100,000 bootstrap replicates of the mean: bs_reps\n",
        "bs_reps = dcst.draw_bs_reps(f_shift, np.mean, size=100000)\n",
        "\n",
        "# Compute and report the p-value\n",
        "p_val = np.sum(bs_reps >= f_mean) / 100000\n",
        "print('p =', p_val)"
      ],
      "metadata": {
        "id": "D5Q5jFDIG6RG"
      },
      "execution_count": null,
      "outputs": []
    },
    {
      "cell_type": "markdown",
      "source": [
        "Did the 2015 event have this problem?"
      ],
      "metadata": {
        "id": "AyojQe75Mc7T"
      }
    },
    {
      "cell_type": "code",
      "source": [
        "# Compute f and its mean\n",
        "f = (swimtime_low_lanes_15 - swimtime_high_lanes_15) / swimtime_low_lanes_15\n",
        "f_mean = np.mean(f)\n",
        "\n",
        "# Draw 10,000 bootstrap replicates\n",
        "bs_reps = dcst.draw_bs_reps(f, np.mean, size=10000)\n",
        "\n",
        "# Compute 95% confidence interval\n",
        "conf_int = np.percentile(bs_reps, [2.5, 97.5])\n",
        "\n",
        "# Shift f\n",
        "f_shift = f - f_mean\n",
        "\n",
        "# Draw 100,000 bootstrap replicates of the mean\n",
        "bs_reps = dcst.draw_bs_reps(f_shift, np.mean, size=100000)\n",
        "\n",
        "# Compute the p-value\n",
        "p_val = np.sum(bs_reps >= f_mean) / 100000\n",
        "\n",
        "# Print the results\n",
        "print(\"\"\"\n",
        "mean frac. diff.: {0:.5f}\n",
        "95% conf int of mean frac. diff.: [{1:.5f}, {2:.5f}]\n",
        "p-value: {3:.5f}\"\"\".format(f_mean, *conf_int, p_val))"
      ],
      "metadata": {
        "id": "dLh84FKSMcuT"
      },
      "execution_count": null,
      "outputs": []
    },
    {
      "cell_type": "markdown",
      "source": [
        "Which splits should we consider?"
      ],
      "metadata": {
        "id": "FnYM4BlhMjDu"
      }
    },
    {
      "cell_type": "code",
      "source": [
        "3"
      ],
      "metadata": {
        "id": "iTy4TSGiG6Tj"
      },
      "execution_count": null,
      "outputs": []
    },
    {
      "cell_type": "markdown",
      "source": [
        "EDA: mean differences between odd and even splits"
      ],
      "metadata": {
        "id": "eLaqy2dmMpEN"
      }
    },
    {
      "cell_type": "code",
      "source": [
        "# Plot the the fractional difference for 2013 and 2015\n",
        "_ = plt.plot(lanes, f_13, marker='.', markersize=12, linestyle='none')\n",
        "_ = plt.plot(lanes, f_15, marker='.', markersize=12, linestyle='none')\n",
        "\n",
        "# Add a legend\n",
        "_ = plt.legend((2013, 2015))\n",
        "\n",
        "# Label axes and show plot\n",
        "_ = plt.xlabel('lane')\n",
        "_ = plt.ylabel('frac. diff. (odd - even)')\n",
        "plt.show()"
      ],
      "metadata": {
        "id": "0IKvT0DVG6Wl"
      },
      "execution_count": null,
      "outputs": []
    },
    {
      "cell_type": "markdown",
      "source": [
        "How does the current effect depend on lane position?"
      ],
      "metadata": {
        "id": "JdbBgbxwMwxr"
      }
    },
    {
      "cell_type": "code",
      "source": [
        "# Compute the slope and intercept of the frac diff/lane curve\n",
        "slope, intercept = np.polyfit(lanes, f_13, 1)\n",
        "\n",
        "# Compute bootstrap replicates\n",
        "bs_reps_slope, bs_reps_int = dcst.draw_bs_pairs_linreg(lanes, f_13, size=10000)\n",
        "\n",
        "# Compute 95% confidence interval of slope\n",
        "conf_int = np.percentile(bs_reps_slope, [2.5, 97.5])\n",
        "\n",
        "# Print slope and confidence interval\n",
        "print(\"\"\"\n",
        "slope: {0:.5f} per lane\n",
        "95% conf int: [{1:.5f}, {2:.5f}] per lane\"\"\".format(slope, *conf_int))\n",
        "\n",
        "# x-values for plotting regression lines\n",
        "x = np.array([1, 8])\n",
        "\n",
        "# Plot 100 bootstrap replicate lines\n",
        "for i in range(100):\n",
        "    _ = plt.plot(x, bs_reps_slope[i] * x + bs_reps_int[i],\n",
        "                 color='red', alpha=0.2, linewidth=0.5)\n",
        "\n",
        "# Update the plot\n",
        "plt.draw()\n",
        "plt.show()"
      ],
      "metadata": {
        "id": "lhO14GegG6Y3"
      },
      "execution_count": null,
      "outputs": []
    },
    {
      "cell_type": "markdown",
      "source": [
        "Hypothesis test: can this be by chance?"
      ],
      "metadata": {
        "id": "VOILBqRFM4N6"
      }
    },
    {
      "cell_type": "code",
      "source": [
        "# Compute observed correlation: rho\n",
        "rho = dcst.pearson_r(lanes, f_13)\n",
        "\n",
        "# Initialize permutation reps: perm_reps_rho\n",
        "perm_reps_rho = np.empty(10000)\n",
        "\n",
        "# Make permutation reps\n",
        "for i in range(10000):\n",
        "    # Scramble the lanes array: scrambled_lanes\n",
        "    scrambled_lanes = np.random.permutation(lanes)\n",
        "\n",
        "    # Compute the Pearson correlation coefficient\n",
        "    perm_reps_rho[i] = dcst.pearson_r(scrambled_lanes, f_13)\n",
        "\n",
        "# Compute and print p-value\n",
        "p_val = np.sum(perm_reps_rho >= rho) / 10000\n",
        "print('p =', p_val)"
      ],
      "metadata": {
        "id": "DtVcpawQG6b3"
      },
      "execution_count": null,
      "outputs": []
    },
    {
      "cell_type": "markdown",
      "source": [
        "Parkfield earthquake magnitudes"
      ],
      "metadata": {
        "id": "ECTLoBxDNDK8"
      }
    },
    {
      "cell_type": "code",
      "source": [
        "# Make the plot\n",
        "_ = plt.plot(*dcst.ecdf(mags), marker='.', linestyle='none')\n",
        "\n",
        "# Label axes and show plot\n",
        "_ = plt.xlabel('magnitude')\n",
        "_ = plt.ylabel('ECDF')\n",
        "plt.show()"
      ],
      "metadata": {
        "id": "5EJq1OcAG6fB"
      },
      "execution_count": null,
      "outputs": []
    },
    {
      "cell_type": "markdown",
      "source": [
        "Computing the b-value"
      ],
      "metadata": {
        "id": "cQUX7m2mNMNL"
      }
    },
    {
      "cell_type": "code",
      "source": [
        "def b_value(mags, mt, perc=[2.5, 97.5], n_reps=None):\n",
        "    \"\"\"Compute the b-value and optionally its confidence interval.\"\"\"\n",
        "    # Extract magnitudes above completeness threshold: m\n",
        "    m = mags[mags >= mt]\n",
        "\n",
        "    # Compute b-value: b\n",
        "    b = (np.mean(m) - mt) * np.log(10)\n",
        "\n",
        "    # Draw bootstrap replicates\n",
        "    if n_reps is None:\n",
        "        return b\n",
        "    else:\n",
        "        m_bs_reps = dcst.draw_bs_reps(m, np.mean, size=n_reps)\n",
        "\n",
        "        # Compute b-value from replicates: b_bs_reps\n",
        "        b_bs_reps = (m_bs_reps - mt) * np.log(10)\n",
        "\n",
        "        # Compute confidence interval: conf_int\n",
        "        conf_int = np.percentile(b_bs_reps, perc)\n",
        "\n",
        "        return b, conf_int"
      ],
      "metadata": {
        "id": "tnM2U0WeG6h7"
      },
      "execution_count": null,
      "outputs": []
    },
    {
      "cell_type": "markdown",
      "source": [
        "The b-value for Parkfield"
      ],
      "metadata": {
        "id": "j_kJ7EmUNTgv"
      }
    },
    {
      "cell_type": "code",
      "source": [
        "# Compute b-value and confidence interval\n",
        "b, conf_int = b_value(mags, mt, perc=[2.5, 97.5], n_reps=10000)\n",
        "\n",
        "# Generate samples to for theoretical ECDF\n",
        "m_theor = np.random.exponential(b/np.log(10), size=100000) + mt\n",
        "\n",
        "# Plot the theoretical CDF\n",
        "_ = plt.plot(*dcst.ecdf(m_theor))\n",
        "\n",
        "# Plot the ECDF (slicing mags >= mt)\n",
        "_ = plt.plot(*dcst.ecdf(mags[mags >= mt]), marker='.', linestyle='none')\n",
        "\n",
        "# Pretty up and show the plot\n",
        "_ = plt.xlabel('magnitude')\n",
        "_ = plt.ylabel('ECDF')\n",
        "_ = plt.xlim(2.8, 6.2)\n",
        "plt.show()\n",
        "\n",
        "# Report the results\n",
        "print(\"\"\"\n",
        "b-value: {0:.2f}\n",
        "95% conf int: [{1:.2f}, {2:.2f}]\"\"\".format(b, *conf_int))"
      ],
      "metadata": {
        "id": "4QI8uBAKG6k2"
      },
      "execution_count": null,
      "outputs": []
    },
    {
      "cell_type": "markdown",
      "source": [
        "Interearthquake time estimates for Parkfield"
      ],
      "metadata": {
        "id": "n1WvMPg1NafW"
      }
    },
    {
      "cell_type": "code",
      "source": [
        "# Compute the mean time gap: mean_time_gap\n",
        "mean_time_gap = np.mean(time_gap)\n",
        "\n",
        "# Standard deviation of the time gap: std_time_gap\n",
        "std_time_gap = np.std(time_gap)\n",
        "\n",
        "# Generate theoretical Exponential distribution of timings: time_gap_exp\n",
        "time_gap_exp = np.random.exponential(mean_time_gap, size=10000)\n",
        "\n",
        "# Generate theoretical Normal distribution of timings: time_gap_norm\n",
        "time_gap_norm = np.random.normal(mean_time_gap, std_time_gap, size=10000)\n",
        "\n",
        "# Plot theoretical CDFs\n",
        "_ = plt.plot(*dcst.ecdf(time_gap_exp))\n",
        "_ = plt.plot(*dcst.ecdf(time_gap_norm))\n",
        "\n",
        "# Plot Parkfield ECDF\n",
        "_ = plt.plot(*dcst.ecdf(time_gap, formal=True, min_x=-10, max_x=50))\n",
        "\n",
        "# Add legend\n",
        "_ = plt.legend(('Exp.', 'Norm.'), loc='upper left')\n",
        "\n",
        "# Label axes, set limits and show plot\n",
        "_ = plt.xlabel('time gap (years)')\n",
        "_ = plt.ylabel('ECDF')\n",
        "_ = plt.xlim(-10, 50)\n",
        "plt.show()"
      ],
      "metadata": {
        "id": "opR5jqiwG6nn"
      },
      "execution_count": null,
      "outputs": []
    },
    {
      "cell_type": "markdown",
      "source": [
        "When will the next big Parkfield quake be?"
      ],
      "metadata": {
        "id": "jlPGS7laNkCV"
      }
    },
    {
      "cell_type": "code",
      "source": [
        "# Draw samples from the Exponential distribution: exp_samples\n",
        "exp_samples = np.random.exponential(mean_time_gap, size=100000)\n",
        "\n",
        "# Draw samples from the Normal distribution: norm_samples\n",
        "norm_samples = np.random.normal(mean_time_gap, std_time_gap, size=100000)\n",
        "\n",
        "# No earthquake as of today, so only keep samples that are long enough\n",
        "exp_samples = exp_samples[exp_samples > today - last_quake]\n",
        "norm_samples = norm_samples[norm_samples > today - last_quake]\n",
        "\n",
        "# Compute the confidence intervals with medians\n",
        "conf_int_exp = np.percentile(exp_samples, [2.5, 50, 97.5]) + last_quake\n",
        "conf_int_norm = np.percentile(norm_samples, [2.5, 50, 97.5]) + last_quake\n",
        "\n",
        "# Print the results\n",
        "print('Exponential:', conf_int_exp)\n",
        "print('     Normal:', conf_int_norm)"
      ],
      "metadata": {
        "id": "6UR25fTHG6qw"
      },
      "execution_count": null,
      "outputs": []
    },
    {
      "cell_type": "markdown",
      "source": [
        "Computing the value of a formal ECDF"
      ],
      "metadata": {
        "id": "x-ZcaS1eNtFm"
      }
    },
    {
      "cell_type": "code",
      "source": [
        "3"
      ],
      "metadata": {
        "id": "wwakxHooG6t4"
      },
      "execution_count": null,
      "outputs": []
    },
    {
      "cell_type": "markdown",
      "source": [
        "Computing the K-S statistic"
      ],
      "metadata": {
        "id": "9PdTizhMNwVz"
      }
    },
    {
      "cell_type": "code",
      "source": [
        "def ks_stat(data1, data2):\n",
        "    # Compute ECDF from data: x, y\n",
        "    x, y = dcst.ecdf(data1)\n",
        "\n",
        "    # Compute corresponding values of the target CDF\n",
        "    cdf = dcst.ecdf_formal(x, data2)\n",
        "\n",
        "    # Compute distances between concave corners and CDF\n",
        "    D_top = y - cdf\n",
        "\n",
        "    # Compute distance between convex corners and CDF\n",
        "    D_bottom = cdf - y + 1/len(data1)\n",
        "\n",
        "    return np.max((D_top, D_bottom))"
      ],
      "metadata": {
        "id": "n8XHkMBAG6w-"
      },
      "execution_count": null,
      "outputs": []
    },
    {
      "cell_type": "markdown",
      "source": [
        "Drawing K-S replicates"
      ],
      "metadata": {
        "id": "xYHSya75N4GZ"
      }
    },
    {
      "cell_type": "code",
      "source": [
        "def draw_ks_reps(n, f, args=(), size=10000, n_reps=10000):\n",
        "    # Generate samples from target distribution\n",
        "    x_f = f(*args, size=size)\n",
        "\n",
        "    # Initialize K-S replicates\n",
        "    reps = np.empty(n_reps)\n",
        "\n",
        "    # Draw replicates\n",
        "    for i in range(n_reps):\n",
        "        # Draw samples for comparison\n",
        "        x_samp = f(*args, size=n)\n",
        "\n",
        "        # Compute K-S statistic\n",
        "        reps[i] = dcst.ks_stat(x_samp, x_f)\n",
        "\n",
        "    return reps"
      ],
      "metadata": {
        "id": "q3-Aw311G6zv"
      },
      "execution_count": null,
      "outputs": []
    },
    {
      "cell_type": "markdown",
      "source": [
        "The K-S test for Exponentiality"
      ],
      "metadata": {
        "id": "N6IuUztJN879"
      }
    },
    {
      "cell_type": "code",
      "source": [
        "# Draw target distribution: x_f\n",
        "x_f = np.random.exponential(mean_time_gap, size=10000)\n",
        "\n",
        "# Compute K-S stat: d\n",
        "d = dcst.ks_stat(time_gap, x_f)\n",
        "\n",
        "# Draw K-S replicates: reps\n",
        "reps = dcst.draw_ks_reps(len(time_gap), np.random.exponential,\n",
        "                         args=(mean_time_gap,), size=10000, n_reps=10000)\n",
        "\n",
        "# Compute and print p-value\n",
        "p_val = np.sum(reps >= d) / 10000\n",
        "print('p =', p_val)"
      ],
      "metadata": {
        "id": "aTCBXVDYG62z"
      },
      "execution_count": null,
      "outputs": []
    },
    {
      "cell_type": "markdown",
      "source": [
        "EDA: Plotting earthquakes over time"
      ],
      "metadata": {
        "id": "C4WkMHEhOHY0"
      }
    },
    {
      "cell_type": "code",
      "source": [
        "# Plot time vs. magnitude\n",
        "_ = plt.plot(time, mags, marker='.', linestyle='none', alpha=0.1)\n",
        "\n",
        "# Label axes and show the plot\n",
        "_ = plt.xlabel('time (year)')\n",
        "_ = plt.ylabel('magnitude')\n",
        "plt.show()"
      ],
      "metadata": {
        "id": "5CdVPeILG65v"
      },
      "execution_count": null,
      "outputs": []
    },
    {
      "cell_type": "markdown",
      "source": [
        "Estimates of the mean interearthquake times"
      ],
      "metadata": {
        "id": "McOPczWlOLlb"
      }
    },
    {
      "cell_type": "code",
      "source": [
        "# Compute mean interearthquake time\n",
        "mean_dt_pre = np.mean(dt_pre)\n",
        "mean_dt_post = np.mean(dt_post)\n",
        "\n",
        "# Draw 10,000 bootstrap replicates of the mean\n",
        "bs_reps_pre = dcst.draw_bs_reps(dt_pre, np.mean, size=10000)\n",
        "bs_reps_post = dcst.draw_bs_reps(dt_post, np.mean, size=10000)\n",
        "\n",
        "# Compute the confidence interval\n",
        "conf_int_pre = np.percentile(bs_reps_pre, [2.5, 97.5])\n",
        "conf_int_post = np.percentile(bs_reps_post, [2.5, 97.5])\n",
        "\n",
        "# Print the results\n",
        "print(\"\"\"1980 through 2009\n",
        "mean time gap: {0:.2f} days\n",
        "95% conf int: [{1:.2f}, {2:.2f}] days\"\"\".format(mean_dt_pre, *conf_int_pre))\n",
        "\n",
        "print(\"\"\"\n",
        "2010 through mid-2017\n",
        "mean time gap: {0:.2f} days\n",
        "95% conf int: [{1:.2f}, {2:.2f}] days\"\"\".format(mean_dt_post, *conf_int_post))"
      ],
      "metadata": {
        "id": "2hDaTPmkG681"
      },
      "execution_count": null,
      "outputs": []
    },
    {
      "cell_type": "markdown",
      "source": [
        "Hypothesis test: did earthquake frequency change?"
      ],
      "metadata": {
        "id": "JlYxjZe2OTYj"
      }
    },
    {
      "cell_type": "code",
      "source": [
        "# Compute the observed test statistic\n",
        "mean_dt_diff = mean_dt_pre - mean_dt_post\n",
        "\n",
        "# Shift the post-2010 data to have the same mean as the pre-2010 data\n",
        "dt_post_shift = dt_post - mean_dt_post + mean_dt_pre\n",
        "\n",
        "# Compute 10,000 bootstrap replicates from arrays\n",
        "bs_reps_pre = dcst.draw_bs_reps(dt_pre, np.mean, size=10000)\n",
        "bs_reps_post = dcst.draw_bs_reps(dt_post_shift, np.mean, size=10000)\n",
        "\n",
        "# Get replicates of difference of means\n",
        "bs_reps = bs_reps_pre - bs_reps_post\n",
        "\n",
        "# Compute and print the p-value\n",
        "p_val = np.sum(bs_reps >= mean_dt_diff) / 10000\n",
        "print('p =', p_val)"
      ],
      "metadata": {
        "id": "tV2EB_kDG6_k"
      },
      "execution_count": null,
      "outputs": []
    },
    {
      "cell_type": "markdown",
      "source": [
        "How to display your analysis"
      ],
      "metadata": {
        "id": "q3zx6SXXOaZr"
      }
    },
    {
      "cell_type": "code",
      "source": [
        "2"
      ],
      "metadata": {
        "id": "v8sqYQDOG7Cm"
      },
      "execution_count": null,
      "outputs": []
    },
    {
      "cell_type": "markdown",
      "source": [
        "EDA: Comparing magnitudes before and after 2010"
      ],
      "metadata": {
        "id": "fGZlVUh7OeDv"
      }
    },
    {
      "cell_type": "code",
      "source": [
        "# Get magnitudes before and after 2010\n",
        "mags_pre = mags[time < 2010]\n",
        "mags_post = mags[time >= 2010]\n",
        "\n",
        "# Generate ECDFs\n",
        "_ = plt.plot(*dcst.ecdf(mags_pre), marker='.', linestyle='none')\n",
        "_ = plt.plot(*dcst.ecdf(mags_post), marker='.', linestyle='none')\n",
        "\n",
        "# Label axes and show plot\n",
        "_ = plt.xlabel('magnitude')\n",
        "_ = plt.ylabel('ECDF')\n",
        "plt.legend(('1980 though 2009', '2010 through mid-2017'), loc='upper left')\n",
        "plt.show()"
      ],
      "metadata": {
        "id": "qRfoTxF8G7Fa"
      },
      "execution_count": null,
      "outputs": []
    },
    {
      "cell_type": "markdown",
      "source": [
        "Quantification of the b-values"
      ],
      "metadata": {
        "id": "ltP6rItlOksY"
      }
    },
    {
      "cell_type": "code",
      "source": [
        "# Compute b-value and confidence interval for pre-2010\n",
        "b_pre, conf_int_pre = b_value(mags_pre, mt, perc=[2.5, 97.5], n_reps=10000)\n",
        "\n",
        "# Compute b-value and confidence interval for post-2010\n",
        "b_post, conf_int_post = b_value(mags_post, mt, perc=[2.5, 97.5], n_reps=10000)\n",
        "\n",
        "# Report the results\n",
        "print(\"\"\"\n",
        "1980 through 2009\n",
        "b-value: {0:.2f}\n",
        "95% conf int: [{1:.2f}, {2:.2f}]\n",
        "\n",
        "2010 through mid-2017\n",
        "b-value: {3:.2f}\n",
        "95% conf int: [{4:.2f}, {5:.2f}]\n",
        "\"\"\".format(b_pre, *conf_int_pre, b_post, *conf_int_post))\n"
      ],
      "metadata": {
        "id": "xBJ3Zmo0G7IX"
      },
      "execution_count": null,
      "outputs": []
    },
    {
      "cell_type": "markdown",
      "source": [
        "How should we do a hypothesis test on differences of the b-value?"
      ],
      "metadata": {
        "id": "W6O9ByWDOqeO"
      }
    },
    {
      "cell_type": "code",
      "source": [
        "6"
      ],
      "metadata": {
        "id": "irudL8UdG7LI"
      },
      "execution_count": null,
      "outputs": []
    },
    {
      "cell_type": "markdown",
      "source": [
        "Hypothesis test: are the b-values different?"
      ],
      "metadata": {
        "id": "Nd15sRmvO0xl"
      }
    },
    {
      "cell_type": "code",
      "source": [
        "# Only magnitudes above completeness threshold\n",
        "mags_pre = mags_pre[mags_pre >= mt]\n",
        "mags_post = mags_post[mags_post >= mt]\n",
        "\n",
        "# Observed difference in mean magnitudes: diff_obs\n",
        "diff_obs = np.mean(mags_post) - np.mean(mags_pre)\n",
        "\n",
        "# Generate permutation replicates: perm_reps\n",
        "perm_reps = dcst.draw_perm_reps(mags_post, mags_pre, dcst.diff_of_means, size=10000)\n",
        "\n",
        "# Compute and print p-value\n",
        "p_val = np.sum(perm_reps < diff_obs) / 10000\n",
        "print('p =', p_val)"
      ],
      "metadata": {
        "id": "G-hqEI9MG7N7"
      },
      "execution_count": null,
      "outputs": []
    },
    {
      "cell_type": "markdown",
      "source": [
        "What can you conclude from this analysis?"
      ],
      "metadata": {
        "id": "oCniEBCgO8AV"
      }
    },
    {
      "cell_type": "code",
      "source": [
        "3"
      ],
      "metadata": {
        "id": "AGwvI7t_G7Ts"
      },
      "execution_count": null,
      "outputs": []
    }
  ]
}